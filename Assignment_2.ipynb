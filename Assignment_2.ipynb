{
 "cells": [
  {
   "cell_type": "markdown",
   "id": "1423befd-d1b8-49e2-927a-ca1f759e6e9d",
   "metadata": {},
   "source": [
    "# Assignment_2"
   ]
  },
  {
   "cell_type": "markdown",
   "id": "ba2122ac-1d08-4c9c-b97b-a137635807f3",
   "metadata": {},
   "source": [
    "1. Write a program to calculate the electricity bill using only if statement?"
   ]
  },
  {
   "cell_type": "code",
   "execution_count": 64,
   "id": "a46601be-b417-48a1-b772-325c4e584320",
   "metadata": {
    "scrolled": true
   },
   "outputs": [
    {
     "name": "stdin",
     "output_type": "stream",
     "text": [
      "Enter the units\t :  250\n"
     ]
    },
    {
     "name": "stdout",
     "output_type": "stream",
     "text": [
      "the total bills in Rs :  1000\n"
     ]
    }
   ],
   "source": [
    "units = int(input(\"Enter the units\\t : \"))\n",
    "bill = 0\n",
    "\n",
    "if units <= 100:\n",
    "    bill = 0\n",
    "if units > 100 and units <= 200:\n",
    "    bill = (units - 100) * 5\n",
    "if units > 200:\n",
    "    bill = (100 * 5) + (units - 200) * 10\n",
    "    \n",
    "    print(\"the total bills in Rs : \", bill)"
   ]
  },
  {
   "cell_type": "markdown",
   "id": "7713c10b-c54a-408f-9e6b-5f08055998bc",
   "metadata": {},
   "source": [
    "2. Write a program to acccept percentage from the user and display the grade according to the following criteria?"
   ]
  },
  {
   "cell_type": "code",
   "execution_count": 28,
   "id": "ca3b413b-49d4-4544-a576-ffc64cea6aac",
   "metadata": {
    "scrolled": true
   },
   "outputs": [
    {
     "name": "stdin",
     "output_type": "stream",
     "text": [
      "Enter the percentage :  88\n"
     ]
    },
    {
     "name": "stdout",
     "output_type": "stream",
     "text": [
      "GRADE B\n"
     ]
    }
   ],
   "source": [
    "percentage = int(input(\"Enter the percentage : \"))\n",
    "\n",
    "if percentage > 90:\n",
    "    print(\"GRADE A\")\n",
    "if percentage > 80 and percentage <= 90:\n",
    "    print(\"GRADE B\")\n",
    "if percentage >= 60 and percentage <= 80:\n",
    "    print(\"GRADE C\")\n",
    "if percentage < 60:\n",
    "    print(\"GRADE D\")"
   ]
  },
  {
   "cell_type": "markdown",
   "id": "b0eddebc-4ebc-43f0-89f4-2c13aa71b5bf",
   "metadata": {},
   "source": [
    "3. Accept the age of 4 people and display the youngest one?"
   ]
  },
  {
   "cell_type": "code",
   "execution_count": 26,
   "id": "58da093b-29a9-49e6-adb3-18fb7861df13",
   "metadata": {
    "scrolled": true
   },
   "outputs": [
    {
     "name": "stdin",
     "output_type": "stream",
     "text": [
      "Enter the age of person1 :  10\n",
      "Enter the age of person2 :  20\n",
      "Enter the age of person3 :  30\n",
      "Enter the age of person4 :  40\n"
     ]
    },
    {
     "name": "stdout",
     "output_type": "stream",
     "text": [
      "person1 is youngest one\n"
     ]
    }
   ],
   "source": [
    "person1 = int(input(\"Enter the age of person1 : \"))\n",
    "person2 = int(input(\"Enter the age of person2 : \"))\n",
    "person3 = int(input(\"Enter the age of person3 : \"))\n",
    "person4 = int(input(\"Enter the age of person4 : \"))\n",
    "\n",
    "if person1 < person2 and person2 < person3 and person1 < person4:\n",
    "    print(\"person1 is youngest one\")\n",
    "if person2 < person1 and person2 < person3 and person2 < person4:\n",
    "    print(\"person2 is youngest one\")\n",
    "if person3 < person3 and person1 < person2 and person3 < person4:\n",
    "    print(\"person3 is youngest one\")\n",
    "if person4 < person1 and person4 < person2 and person4 < person3:\n",
    "    print(\"person4 is youngest one\")"
   ]
  },
  {
   "cell_type": "markdown",
   "id": "532433ee-583e-440f-9779-b33e97011efa",
   "metadata": {},
   "source": [
    "4. A company decided to give bonus to employee according to following criteria?"
   ]
  },
  {
   "cell_type": "code",
   "execution_count": 59,
   "id": "deadabad-024a-4926-aacb-bb0b327dca70",
   "metadata": {
    "scrolled": true
   },
   "outputs": [
    {
     "name": "stdin",
     "output_type": "stream",
     "text": [
      "Enter your salary\t :  25008.52\n",
      "Enter your services\t :  12\n"
     ]
    },
    {
     "name": "stdout",
     "output_type": "stream",
     "text": [
      "The net bonus amount is 2500.85\n"
     ]
    }
   ],
   "source": [
    "salary = float(input(\"Enter your salary\\t : \"))\n",
    "services = int(input(\"Enter your services\\t : \"))\n",
    "\n",
    "if services > 10:\n",
    "    bonus = salary * 0.1\n",
    "    print(f\"The net bonus amount is {bonus:.2f}\")\n",
    "if services >= 6 and services <= 10:\n",
    "    bonus = salary * 0.8\n",
    "    print(f\"The net bonus amount is {bonus:.2f}\")\n",
    "if services < 6:\n",
    "    bonus = salary * 0.05\n",
    "    print(f\"The net bonus amount is {bonus:.2f}\")"
   ]
  },
  {
   "cell_type": "markdown",
   "id": "71c954aa-feb8-4587-9921-572fe780e24a",
   "metadata": {},
   "source": [
    "5. Accept three numbers from the user and display the second largest number?"
   ]
  },
  {
   "cell_type": "code",
   "execution_count": 57,
   "id": "e679a747-61ff-46f2-be3a-26da3cd3cac8",
   "metadata": {
    "scrolled": true
   },
   "outputs": [
    {
     "name": "stdin",
     "output_type": "stream",
     "text": [
      "Enter the number1\t :  7\n",
      "Enter the number2\t :  6\n",
      "Enter the number3\t :  5\n"
     ]
    },
    {
     "name": "stdout",
     "output_type": "stream",
     "text": [
      "The second largest number is : 6\n"
     ]
    }
   ],
   "source": [
    "num1 = int(input(\"Enter the number1\\t : \"))\n",
    "num2 = int(input(\"Enter the number2\\t : \"))\n",
    "num3 = int(input(\"Enter the number3\\t : \"))\n",
    "\n",
    "if (num1 > num2 and num1 < num3) or (num1 > num3 and num1 < num2):\n",
    "    second = num1\n",
    "    print(f\"The second largest number is : {second}\")\n",
    "if (num2 > num1 and num2 < num3) or (num2 > num3 and num2 < num1):\n",
    "    second = num2\n",
    "    print(f\"The second largest number is : {second}\")\n",
    "if (num3 > num1 and num3 < num2) or (num3 > num2 and num3 < num1):\n",
    "    second = num3\n",
    "    print(f\"The second largest number is : {second}\")"
   ]
  },
  {
   "cell_type": "markdown",
   "id": "8cb34843-e18e-4343-bf68-b7bc74c0c43e",
   "metadata": {},
   "source": [
    "6. Accept the marked price from the user and calculate the net amount as to pay according to following criteria?"
   ]
  },
  {
   "cell_type": "code",
   "execution_count": 62,
   "id": "5bdbcfa5-6e08-4244-9f65-b69671f0811d",
   "metadata": {
    "scrolled": true
   },
   "outputs": [
    {
     "name": "stdin",
     "output_type": "stream",
     "text": [
      "Enter the Marked price\t :  25005\n"
     ]
    },
    {
     "name": "stdout",
     "output_type": "stream",
     "text": [
      "Disount is given\t : 5001.00\n",
      "The Net amount after discount is 20004.00\n"
     ]
    }
   ],
   "source": [
    "marked_price = float(input(\"Enter the Marked price\\t : \"))\n",
    "\n",
    "if marked_price > 10000:\n",
    "    discount = marked_price * .20\n",
    "    print(f\"Disount is given\\t : {discount:.2f}\")\n",
    "    net_amount = marked_price - discount\n",
    "    print(f\"The Net amount after discount is {net_amount:.2f}\")\n",
    "if marked_price > 7000 and marked_price <= 10000:\n",
    "    discount = marked_price * .15\n",
    "    print(f\"Disount is given\\t : {discount:.2f}\")\n",
    "    net_amount = marked_price - discount\n",
    "    print(f\"The Net amount after discount is {net_amount:.2f}\")\n",
    "if marked_price <= 7000:\n",
    "    discount = marked_price * .10\n",
    "    print(f\"Disount is given\\t : {discount:.2f}\")\n",
    "    net_amount = marked_price - discount\n",
    "    print(f\"The Net amount after discount is {net_amount:.2f}\")"
   ]
  },
  {
   "cell_type": "markdown",
   "id": "5f0dca73-db21-4463-b432-8aa7e95a6035",
   "metadata": {},
   "source": [
    "7. Accept the marks of english, Math, Science and Social Studies Subjects and display the stream alloted according to following?"
   ]
  },
  {
   "cell_type": "code",
   "execution_count": 80,
   "id": "cf1ecd24-6c28-4bcd-b8ec-97165abda536",
   "metadata": {
    "scrolled": true
   },
   "outputs": [
    {
     "name": "stdout",
     "output_type": "stream",
     "text": [
      "Enter the Marks of 4 Subjects\n"
     ]
    },
    {
     "name": "stdin",
     "output_type": "stream",
     "text": [
      "Enter the marks of english\t  :  90\n",
      "Enter the marks of maths\t  :  65\n",
      "Enter the marks of science\t  :  75\n",
      "Enter the marks of social studies :  65\n"
     ]
    },
    {
     "name": "stdout",
     "output_type": "stream",
     "text": [
      "Science stream is alloted\n"
     ]
    }
   ],
   "source": [
    "print(\"Enter the Marks of 4 Subjects\")\n",
    "english = int(input(\"Enter the marks of english\\t  : \"))\n",
    "maths = int(input(\"Enter the marks of maths\\t  : \"))\n",
    "science = int(input(\"Enter the marks of science\\t  : \"))\n",
    "social_studies = int(input(\"Enter the marks of social studies : \"))\n",
    "\n",
    "total_marks = english + maths + science + social_studies\n",
    "\n",
    "if total_marks > 240:\n",
    "    print(\"Science stream is alloted\")\n",
    "elif english > 80 and maths > 80 and science > 50:\n",
    "    print(\"Commerce stream is alloted\")\n",
    "elif english > 80 and social_studies > 80:\n",
    "   print(\"Humanities stream is alloted\")\n",
    "else:\n",
    "    print(\"No stream is alloted\")"
   ]
  },
  {
   "cell_type": "markdown",
   "id": "bf451e50-227c-4bc0-bf72-2d552e99ef29",
   "metadata": {},
   "source": [
    "8. Write a program to display \"Hello\" if a number entered by user is a multiple of five, otherwise print \"Bye\"?"
   ]
  },
  {
   "cell_type": "code",
   "execution_count": 68,
   "id": "df4a961d-fd97-4b87-b71b-81cfccae0a45",
   "metadata": {
    "scrolled": true
   },
   "outputs": [
    {
     "name": "stdin",
     "output_type": "stream",
     "text": [
      "Enter any number :  25\n"
     ]
    },
    {
     "name": "stdout",
     "output_type": "stream",
     "text": [
      "Hello\n"
     ]
    }
   ],
   "source": [
    "number = int(input(\"Enter any number : \"))\n",
    "\n",
    "if number % 5 == 0:\n",
    "    print(\"Hello\")\n",
    "else:\n",
    "    print(\"Bye\")"
   ]
  },
  {
   "cell_type": "markdown",
   "id": "74935e76-0d8f-4e9a-a281-18a6332cc10f",
   "metadata": {},
   "source": [
    "9. Write a program to check whether the last digit of a number(entered by user) is divisble by 3 or not?"
   ]
  },
  {
   "cell_type": "code",
   "execution_count": 70,
   "id": "977d6fe8-2195-486a-b64b-1c988baa43b2",
   "metadata": {
    "scrolled": true
   },
   "outputs": [
    {
     "name": "stdin",
     "output_type": "stream",
     "text": [
      "Enter any number :  343\n"
     ]
    },
    {
     "name": "stdout",
     "output_type": "stream",
     "text": [
      "The input number is divisible by 3\n"
     ]
    }
   ],
   "source": [
    "number = int(input(\"Enter any number : \"))\n",
    "num = number % 10\n",
    "\n",
    "if num % 3 == 0:\n",
    "    print(\"The input number is divisible by 3\")\n",
    "else:\n",
    "    print(\"The input number is not divisible by 3\")"
   ]
  },
  {
   "cell_type": "markdown",
   "id": "db45d519-7883-4464-b583-3c1fecd1c0ab",
   "metadata": {},
   "source": [
    "10. Write a program to check wheather a number entered is three-digit number or not?"
   ]
  },
  {
   "cell_type": "code",
   "execution_count": 77,
   "id": "9edbba1f-bd8e-48a2-90de-bf71558f3ccf",
   "metadata": {
    "scrolled": true
   },
   "outputs": [
    {
     "name": "stdin",
     "output_type": "stream",
     "text": [
      "Enter any number :  252\n"
     ]
    },
    {
     "name": "stdout",
     "output_type": "stream",
     "text": [
      "Input number is 3-digit number\n"
     ]
    }
   ],
   "source": [
    "number = input(\"Enter any number : \")\n",
    "\n",
    "if number.isdigit():\n",
    "    number = int(number)\n",
    "    if 100 <= number and number <= 999:\n",
    "        print(\"Input number is 3-digit number\")\n",
    "    else:\n",
    "        print(\"Input number is not 3-digit number\")\n",
    "else:\n",
    "    print(\"Invalid Input! Please enter digits only\")"
   ]
  }
 ],
 "metadata": {
  "kernelspec": {
   "display_name": "Python 3 (ipykernel)",
   "language": "python",
   "name": "python3"
  },
  "language_info": {
   "codemirror_mode": {
    "name": "ipython",
    "version": 3
   },
   "file_extension": ".py",
   "mimetype": "text/x-python",
   "name": "python",
   "nbconvert_exporter": "python",
   "pygments_lexer": "ipython3",
   "version": "3.13.5"
  }
 },
 "nbformat": 4,
 "nbformat_minor": 5
}
