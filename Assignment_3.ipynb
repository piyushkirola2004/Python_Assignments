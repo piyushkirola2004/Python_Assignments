{
 "cells": [
  {
   "cell_type": "markdown",
   "id": "87c3f53a-8ce8-47c4-94f1-e0783df5a404",
   "metadata": {},
   "source": [
    "# Assignment_3"
   ]
  },
  {
   "cell_type": "markdown",
   "id": "b27679b6-8dc8-405c-b785-2be228f1c93d",
   "metadata": {},
   "source": [
    "1. Write a python program to print all numbers from 1 to 10 using a loop?"
   ]
  },
  {
   "cell_type": "code",
   "execution_count": 9,
   "id": "97c22652-d6b8-462b-baa2-2aed0868fe02",
   "metadata": {
    "scrolled": true
   },
   "outputs": [
    {
     "name": "stdout",
     "output_type": "stream",
     "text": [
      "1\n",
      "2\n",
      "3\n",
      "4\n",
      "5\n",
      "6\n",
      "7\n",
      "8\n",
      "9\n",
      "10\n"
     ]
    }
   ],
   "source": [
    "for i in range(1,11):\n",
    "    print(i)"
   ]
  },
  {
   "cell_type": "markdown",
   "id": "70c31062-cc63-4414-a3ad-edbab02b9e8a",
   "metadata": {},
   "source": [
    "2. Write a python program to sum of all numbers from 1 to 100?"
   ]
  },
  {
   "cell_type": "code",
   "execution_count": 10,
   "id": "d211929a-6730-4de3-9dac-6319d544da19",
   "metadata": {
    "scrolled": true
   },
   "outputs": [
    {
     "name": "stdout",
     "output_type": "stream",
     "text": [
      "Thre Sum of all numbers from 1 to 100 are : 5050\n"
     ]
    }
   ],
   "source": [
    "total = 0\n",
    "for i in range(1,101):\n",
    "    total += i\n",
    "print(f\"Thre Sum of all numbers from 1 to 100 are : {total}\")"
   ]
  },
  {
   "cell_type": "markdown",
   "id": "c1a45a2b-3023-4f6e-b1e6-fe75e2a072b2",
   "metadata": {},
   "source": [
    "3. Write a Python program to print the multiplication table of a given number using a for loop. "
   ]
  },
  {
   "cell_type": "code",
   "execution_count": 11,
   "id": "a679aba5-bc36-4dd4-9939-eb3ae82d6ed1",
   "metadata": {},
   "outputs": [
    {
     "name": "stdin",
     "output_type": "stream",
     "text": [
      "Enter any number :  5\n",
      "Enter any limit\t :  10\n"
     ]
    },
    {
     "name": "stdout",
     "output_type": "stream",
     "text": [
      "Mutliplication of 5 are \n",
      "5 * 0\t = 0\n",
      "5 * 1\t = 5\n",
      "5 * 2\t = 10\n",
      "5 * 3\t = 15\n",
      "5 * 4\t = 20\n",
      "5 * 5\t = 25\n",
      "5 * 6\t = 30\n",
      "5 * 7\t = 35\n",
      "5 * 8\t = 40\n",
      "5 * 9\t = 45\n",
      "5 * 10\t = 50\n"
     ]
    }
   ],
   "source": [
    "num = int(input(\"Enter any number : \"))\n",
    "limit = int(input(\"Enter any limit\\t : \"))\n",
    "\n",
    "print(f\"Mutliplication of {num} are \")\n",
    "for i in range(limit + 1):\n",
    "    print(f\"{num} * {i}\\t = {num * i}\")"
   ]
  },
  {
   "cell_type": "markdown",
   "id": "cee07762-2902-444d-8443-ca25e06e6a08",
   "metadata": {},
   "source": [
    "4: Write a Python program to count the number of even and odd numbers from a series of numbers using a for loop."
   ]
  },
  {
   "cell_type": "code",
   "execution_count": 48,
   "id": "73543725-2be1-4096-80c3-0d499d76fc3c",
   "metadata": {
    "scrolled": true
   },
   "outputs": [
    {
     "name": "stdout",
     "output_type": "stream",
     "text": [
      "Even numbers are : 5\n",
      "Odd numbers are\t : 5\n"
     ]
    }
   ],
   "source": [
    "list1 = [1, 2, 3, 4, 5, 6, 7, 8, 9, 10]\n",
    "even_count = 0\n",
    "odd_count = 0\n",
    "\n",
    "for i in list1:\n",
    "    if i % 2 == 0:\n",
    "        even_count += 1\n",
    "    else:\n",
    "        odd_count += 1\n",
    "        \n",
    "print(f\"Even numbers are : {even_count}\")\n",
    "print(f\"Odd numbers are\\t : {odd_count}\")"
   ]
  },
  {
   "cell_type": "markdown",
   "id": "5ca4347d-78df-4c06-b0b9-9a8221a4806b",
   "metadata": {},
   "source": [
    "5: Write a python program to find the factorial of a number using a for loop."
   ]
  },
  {
   "cell_type": "code",
   "execution_count": 53,
   "id": "ccd61c44-4ddb-4d27-8d5c-5b8293d07a85",
   "metadata": {
    "scrolled": true
   },
   "outputs": [
    {
     "name": "stdin",
     "output_type": "stream",
     "text": [
      "Enter any number :  7\n"
     ]
    },
    {
     "name": "stdout",
     "output_type": "stream",
     "text": [
      "The Factorial of a 7 is 5040\n"
     ]
    }
   ],
   "source": [
    "num = int(input(\"Enter any number : \"))\n",
    "fact = 1\n",
    "\n",
    "for i in range(1, num + 1):\n",
    "    fact *= i\n",
    "print(f\"The Factorial of a {num} is {fact}\")"
   ]
  },
  {
   "cell_type": "markdown",
   "id": "fb91a30d-2951-45e6-9ce8-3c8b8b12b5e4",
   "metadata": {},
   "source": [
    "6: Write a Python program to print the Fibonacci sequence up to a specified number using a for loop. "
   ]
  },
  {
   "cell_type": "code",
   "execution_count": 20,
   "id": "0c13c9cd-c845-44cc-9f44-dfdc87174394",
   "metadata": {
    "scrolled": true
   },
   "outputs": [
    {
     "name": "stdin",
     "output_type": "stream",
     "text": [
      "Enter any number :  10\n"
     ]
    },
    {
     "name": "stdout",
     "output_type": "stream",
     "text": [
      "0 1 1 2 3 5 8 13 21 34 "
     ]
    }
   ],
   "source": [
    "num = int(input(\"Enter any number : \"))\n",
    "a = 0\n",
    "b = 1\n",
    "\n",
    "for i in range(num):\n",
    "    print(a, end=\" \")\n",
    "    a, b = b, a + b"
   ]
  },
  {
   "cell_type": "markdown",
   "id": "bd6e912d-d766-4b7e-a88e-1db9f0d55952",
   "metadata": {},
   "source": [
    "7: Write a Python program to check if a given number is prime or not using a for loop."
   ]
  },
  {
   "cell_type": "code",
   "execution_count": 43,
   "id": "c3bb25ff-8739-443c-a583-a8efe03a91c1",
   "metadata": {
    "scrolled": true
   },
   "outputs": [
    {
     "name": "stdin",
     "output_type": "stream",
     "text": [
      "Enter any number :  29\n"
     ]
    },
    {
     "name": "stdout",
     "output_type": "stream",
     "text": [
      "It is a prime number\n"
     ]
    }
   ],
   "source": [
    "num = int(input(\"Enter any number : \"))\n",
    "\n",
    "if num > 1:\n",
    "    is_prime = True\n",
    "    for i in range(2,num):\n",
    "        if num % i == 0:\n",
    "            is_prime = False\n",
    "    if is_prime:\n",
    "        print(\"It is a prime number\")\n",
    "    else:\n",
    "        print(\"It is not a prime number\")\n",
    "else:\n",
    "    print(\"It is not a prime number\")"
   ]
  },
  {
   "cell_type": "markdown",
   "id": "e1766af5-f1f3-4127-a798-35f447eb0ecf",
   "metadata": {},
   "source": [
    "8: Write a Python program to find the largest element in a list using a for loop. "
   ]
  },
  {
   "cell_type": "code",
   "execution_count": 35,
   "id": "54d3db93-1866-49a5-a7fb-6907922f42fc",
   "metadata": {
    "scrolled": true
   },
   "outputs": [
    {
     "name": "stdout",
     "output_type": "stream",
     "text": [
      "Maximum number in the list is : 9\n"
     ]
    }
   ],
   "source": [
    "list2 = [6, 2, 3, 4, 9, 7]\n",
    "max_num = list2[0]\n",
    "\n",
    "for i in list2:\n",
    "    if i > max_num:\n",
    "        max_num = i\n",
    "print(f\"Maximum number in the list is : {max_num}\")"
   ]
  },
  {
   "cell_type": "markdown",
   "id": "536ec38a-70e8-40be-ab57-c3520100f333",
   "metadata": {},
   "source": [
    "9: Write a Python program to reverse a given string using a for loop."
   ]
  },
  {
   "cell_type": "code",
   "execution_count": 36,
   "id": "53c0cef8-5990-4355-ab8a-64cf36b9532b",
   "metadata": {
    "scrolled": true
   },
   "outputs": [
    {
     "name": "stdin",
     "output_type": "stream",
     "text": [
      "Enter any string :  Piyush Kirola\n"
     ]
    },
    {
     "name": "stdout",
     "output_type": "stream",
     "text": [
      "aloriK hsuyiP \n"
     ]
    }
   ],
   "source": [
    "string = input(\"Enter any string : \")\n",
    "reverse_word = \" \"\n",
    "\n",
    "for i in string:\n",
    "    reverse_word = i + reverse_word\n",
    "print(reverse_word)"
   ]
  },
  {
   "cell_type": "markdown",
   "id": "95a7b250-0c00-4cb9-914a-5b31d3c8c126",
   "metadata": {},
   "source": [
    "10: Write a Python program to find the common elements between two lists using a for loop.\n",
    "List1 = [1,2,3] : List2 = [4,5,1] # common element is 1."
   ]
  },
  {
   "cell_type": "code",
   "execution_count": 52,
   "id": "9c028cda-03da-4228-80cf-15020f2e5f95",
   "metadata": {
    "scrolled": true
   },
   "outputs": [
    {
     "name": "stdout",
     "output_type": "stream",
     "text": [
      "list1 is\t : [1, 2, 3, 6]\n",
      "list2 is\t : [4, 5, 1, 7]\n",
      "Common number is : [1]\n"
     ]
    }
   ],
   "source": [
    "list1 = [1,2,3,6]\n",
    "list2 = [4,5,1,7]\n",
    "\n",
    "common_number = []\n",
    "\n",
    "for i1 in list1:\n",
    "    for i2 in list2:\n",
    "        if i1 == i2:\n",
    "            common_number.append(i1)\n",
    "            break\n",
    "print(f\"list1 is\\t : {list1}\")\n",
    "print(f\"list2 is\\t : {list2}\")\n",
    "print(f\"Common number is : {common_number}\")"
   ]
  }
 ],
 "metadata": {
  "kernelspec": {
   "display_name": "Python 3 (ipykernel)",
   "language": "python",
   "name": "python3"
  },
  "language_info": {
   "codemirror_mode": {
    "name": "ipython",
    "version": 3
   },
   "file_extension": ".py",
   "mimetype": "text/x-python",
   "name": "python",
   "nbconvert_exporter": "python",
   "pygments_lexer": "ipython3",
   "version": "3.13.5"
  }
 },
 "nbformat": 4,
 "nbformat_minor": 5
}
