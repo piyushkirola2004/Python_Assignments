{
 "cells": [
  {
   "cell_type": "markdown",
   "id": "5ed3a839-2928-4450-ad0b-96980ec6ecb3",
   "metadata": {},
   "source": [
    "# Python Pratical Problems"
   ]
  },
  {
   "cell_type": "markdown",
   "id": "ce299dec-3f54-4fe9-a152-052dc0d22c03",
   "metadata": {},
   "source": [
    "1. Take input from user and find wheather number is prime or not?<br>\n",
    "Example: 13 is a prime number<br>\n",
    "Example: 97 is a prime number<br>"
   ]
  },
  {
   "cell_type": "code",
   "execution_count": 9,
   "id": "fb3e4c53-0708-42ab-8eca-b7f0d6b85ba1",
   "metadata": {
    "scrolled": true
   },
   "outputs": [
    {
     "name": "stdin",
     "output_type": "stream",
     "text": [
      "Enter any number :  29\n"
     ]
    },
    {
     "name": "stdout",
     "output_type": "stream",
     "text": [
      "The 29 is a prime number\n"
     ]
    }
   ],
   "source": [
    "def prime_check(n):\n",
    "    if n <= 1:\n",
    "        return False\n",
    "    for i in range(2, int(n**0.5) + 1):\n",
    "        if n % i == 0:\n",
    "            return False\n",
    "    return True\n",
    "\n",
    "if __name__ == \"__main__\":\n",
    "    try:\n",
    "        num = int(input(\"Enter any number : \"))\n",
    "        if prime_check(num):\n",
    "            print(f\"The {num} is a prime number\")\n",
    "        else:\n",
    "            print(f\"The {num} is not a prime number\")\n",
    "    except Exception as e:\n",
    "        print(e)"
   ]
  },
  {
   "cell_type": "markdown",
   "id": "fbe80fca-a871-4535-bdcc-29c0f22b1437",
   "metadata": {},
   "source": [
    "2. Reverse the string using for loop.<br>\n",
    "string = \"Python\".<br>\n",
    "Expected output = \"nohtyP\"<br>"
   ]
  },
  {
   "cell_type": "code",
   "execution_count": 2,
   "id": "840fd893-d60a-4310-a4ee-02ac128df672",
   "metadata": {
    "scrolled": true
   },
   "outputs": [
    {
     "name": "stdin",
     "output_type": "stream",
     "text": [
      "Enter any string for reverse : Python\n"
     ]
    },
    {
     "name": "stdout",
     "output_type": "stream",
     "text": [
      "The reverse of Python is nohtyP\n"
     ]
    }
   ],
   "source": [
    "def reversed_str(string):\n",
    "    reverse = \"\"\n",
    "    for i in string:\n",
    "        reverse = i + reverse\n",
    "    print(f\"The reverse of {string} is {reverse}\")\n",
    "\n",
    "try:\n",
    "    string = input(\"Enter any string for reverse :\")\n",
    "    reversed_str(string)\n",
    "    \n",
    "except Exception as e:\n",
    "    print(e)"
   ]
  },
  {
   "cell_type": "markdown",
   "id": "b0130421-5435-4679-900a-cef159f63f67",
   "metadata": {},
   "source": [
    "3. Palindrome Check (String Problem)<br>\n",
    "String = “mom” # if we reverse this string<br>\n",
    "we get the same Output “mom”"
   ]
  },
  {
   "cell_type": "code",
   "execution_count": 3,
   "id": "cf4cf855-8552-49d5-a019-d00b58cd2e61",
   "metadata": {
    "scrolled": true
   },
   "outputs": [
    {
     "name": "stdin",
     "output_type": "stream",
     "text": [
      "Enter any string for reverse : mom\n"
     ]
    },
    {
     "name": "stdout",
     "output_type": "stream",
     "text": [
      "The Reverse of mom is mom\n",
      "The mom is palindorme\n"
     ]
    }
   ],
   "source": [
    "def palindrome_check(string):\n",
    "    reverse = \"\"\n",
    "    for i in string:\n",
    "        reverse = i + reverse\n",
    "    print(f\"The Reverse of {string} is {reverse}\")\n",
    "    if reverse == string:\n",
    "        print(f\"The {string} is palindorme\")\n",
    "    else:\n",
    "        print(f\"The {string} is not a palindorme\")\n",
    "\n",
    "try:\n",
    "    string = input(\"Enter any string for reverse :\")\n",
    "    palindrome_check(string)\n",
    "    \n",
    "except Exception as e:\n",
    "    print(e)"
   ]
  },
  {
   "cell_type": "markdown",
   "id": "ea3f1ed4-c3da-4879-8fd5-a5d69ec75c92",
   "metadata": {},
   "source": [
    "4. Calculate factorial of a number<br>\n",
    "Example: If number is 5 factorials will be (5x4x2x3x2x1=120)<br>\n",
    "Expected output: 120 if number is 5."
   ]
  },
  {
   "cell_type": "code",
   "execution_count": 7,
   "id": "bce03c0a-2f1c-45c3-8211-47bfb60d48b6",
   "metadata": {
    "scrolled": true
   },
   "outputs": [
    {
     "name": "stdin",
     "output_type": "stream",
     "text": [
      "Enter any number:  6\n"
     ]
    },
    {
     "name": "stdout",
     "output_type": "stream",
     "text": [
      "The Factorial of 6 is 720\n"
     ]
    }
   ],
   "source": [
    "def factorial_num(n):\n",
    "    if n == 0 or n == 1:\n",
    "        return 1\n",
    "    else:\n",
    "        return n * factorial_num(n - 1)\n",
    "\n",
    "try:\n",
    "    num = int(input(\"Enter any number: \"))\n",
    "    if num < 0:\n",
    "        print(\"Factorial is not defined for negative numbers.\")\n",
    "    else:\n",
    "        result = factorial_num(num)\n",
    "        print(f\"The Factorial of {num} is {result}\")\n",
    "        \n",
    "except ValueError:\n",
    "    print(\"Please enter a valid integer.\")"
   ]
  },
  {
   "cell_type": "markdown",
   "id": "64547f5d-e7be-4c09-a5e5-f5b17fb3561a",
   "metadata": {},
   "source": [
    "5. Find the Second Largest Element in a List using for loop.<br>\n",
    "Example<br>\n",
    "Input: [7, 5, 8, 2, 10, 9]<br>\n",
    "Expected Output: 9<br>"
   ]
  },
  {
   "cell_type": "code",
   "execution_count": 11,
   "id": "2bd061d4-fc1b-462d-9bab-1d0eb4c61bc2",
   "metadata": {
    "scrolled": true
   },
   "outputs": [
    {
     "name": "stdout",
     "output_type": "stream",
     "text": [
      "The list is: [7, 5, 8, 2, 10, 9]\n",
      "The second largest element is: 9\n"
     ]
    }
   ],
   "source": [
    "def second_largest_number(numbers):\n",
    "    if numbers[0] > numbers[1]:\n",
    "        largest = numbers[0]\n",
    "        second_largest = numbers[1]\n",
    "    \n",
    "    else:\n",
    "        largest = numbers[1]\n",
    "        second_largest = numbers[0]\n",
    "    \n",
    "    for i in range(2, len(numbers)):\n",
    "        if numbers[i] > largest:\n",
    "            second_largest = largest\n",
    "            largest = numbers[i]\n",
    "        elif numbers[i] > second_largest and numbers[i] != largest:\n",
    "            second_largest = numbers[i]\n",
    "    \n",
    "    print(\"The list is:\", numbers)\n",
    "    print(\"The second largest element is:\", second_largest)\n",
    "\n",
    "try:\n",
    "    num =  [7, 5, 8, 2, 10, 9]\n",
    "    second_largest_number(num)\n",
    "    \n",
    "except Exception as e:\n",
    "    print(e)"
   ]
  },
  {
   "cell_type": "code",
   "execution_count": null,
   "id": "9c903de8-40dd-428e-b77c-30a2f0dfe120",
   "metadata": {},
   "outputs": [],
   "source": []
  }
 ],
 "metadata": {
  "kernelspec": {
   "display_name": "Python 3 (ipykernel)",
   "language": "python",
   "name": "python3"
  },
  "language_info": {
   "codemirror_mode": {
    "name": "ipython",
    "version": 3
   },
   "file_extension": ".py",
   "mimetype": "text/x-python",
   "name": "python",
   "nbconvert_exporter": "python",
   "pygments_lexer": "ipython3",
   "version": "3.13.5"
  }
 },
 "nbformat": 4,
 "nbformat_minor": 5
}
