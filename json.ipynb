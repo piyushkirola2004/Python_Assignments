{
 "cells": [
  {
   "cell_type": "code",
   "execution_count": 3,
   "id": "9ebd364f-f125-4c87-be1c-f75276314a38",
   "metadata": {},
   "outputs": [],
   "source": [
    "import json\n",
    "\n",
    "with open(\"piyush.json\", 'r') as file:\n",
    "    content = json.load(file)\n",
    "    \n",
    "def details():\n",
    "    global content\n",
    "    account_number = int(input(\"Enter the Account number :\"))\n",
    "    if account_number == content[\"account_number\"]:\n",
    "        atm_pin = int(input(\"Enter the ATM PIN :\"))\n",
    "        if atm_pin == content[\"atm_pin\"]:\n",
    "            account_type = input(\"Enter the type of Account :\").lower()\n",
    "            if account_type == content[\"account_type\"]:\n",
    "                mobile_number = int(input(\"Enter the Phone Number :\"))\n",
    "                if mobile_number == content[\"mobile_number\"]:\n",
    "                    print(\"Verification Successful...!\")\n",
    "                    \n",
    "                    while content['balance'] > 0:\n",
    "                        amount_withdraw = int(input(\"Enter the Amount to Withdraw from Available Balance :\"))\n",
    "                        if content['balance'] >= amount_withdraw:\n",
    "                            content['balance'] -= amount_withdraw\n",
    "                            print(\"Amount is deducated from the Balance\")\n",
    "                            print(f\"Current Available Balance is : {content['balance']}\")\n",
    "                        else:\n",
    "                            print(\"Insufficient Balance\")\n",
    "                            print(f\"The Available Balance is : {content['balance']}\")\n",
    "                            print(\"Please Enter Small Amount\\n\")\n",
    "                            continue\n",
    "\n",
    "                        with open(\"piyush.json\",'w') as file:\n",
    "                            json.dump(content, file, indent = 4)\n",
    "                            \n",
    "                        choice = input(\"Do you want to Withdraw again? (YES/NO) :\").lower()\n",
    "                        if choice != \"yes\":\n",
    "                            print(\"Thank You..!\")\n",
    "                            break\n",
    "                else:\n",
    "                    print(\"Invalid Mobile Number\")\n",
    "            else:\n",
    "                print(\"Invalid Account Type\")\n",
    "        else:\n",
    "            print(\"Invalid ATM PIN\")\n",
    "    else:\n",
    "        print(\"Invalid Account Number\")"
   ]
  },
  {
   "cell_type": "code",
   "execution_count": 4,
   "id": "b273a0c5-7ef2-4c13-a1c9-1d4602a6b31e",
   "metadata": {
    "scrolled": true
   },
   "outputs": [
    {
     "name": "stdin",
     "output_type": "stream",
     "text": [
      "Enter the Account number : 1234567890\n",
      "Enter the ATM PIN : 2004\n",
      "Enter the type of Account : saving\n",
      "Enter the Phone Number : 9289450522\n"
     ]
    },
    {
     "name": "stdout",
     "output_type": "stream",
     "text": [
      "Verification Successful...!\n"
     ]
    },
    {
     "name": "stdin",
     "output_type": "stream",
     "text": [
      "Enter the Amount to Withdraw from Available Balance : 10000\n"
     ]
    },
    {
     "name": "stdout",
     "output_type": "stream",
     "text": [
      "Amount is deducated from the Balance\n",
      "Current Available Balance is : 40000\n"
     ]
    },
    {
     "name": "stdin",
     "output_type": "stream",
     "text": [
      "Do you want to Withdraw again? (YES/NO) : no\n"
     ]
    },
    {
     "name": "stdout",
     "output_type": "stream",
     "text": [
      "Thank You..!\n"
     ]
    }
   ],
   "source": [
    "details()"
   ]
  },
  {
   "cell_type": "code",
   "execution_count": null,
   "id": "09e5e23b-575e-4528-8043-f61093c04759",
   "metadata": {},
   "outputs": [],
   "source": []
  }
 ],
 "metadata": {
  "kernelspec": {
   "display_name": "Python 3 (ipykernel)",
   "language": "python",
   "name": "python3"
  },
  "language_info": {
   "codemirror_mode": {
    "name": "ipython",
    "version": 3
   },
   "file_extension": ".py",
   "mimetype": "text/x-python",
   "name": "python",
   "nbconvert_exporter": "python",
   "pygments_lexer": "ipython3",
   "version": "3.13.5"
  }
 },
 "nbformat": 4,
 "nbformat_minor": 5
}
