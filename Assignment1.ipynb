{
 "cells": [
  {
   "cell_type": "markdown",
   "id": "729b418e-8600-4471-a19f-a3b3251b1a81",
   "metadata": {},
   "source": [
    "# Assignment_1"
   ]
  },
  {
   "cell_type": "markdown",
   "id": "469aadd0-e8c4-4501-ba0a-37adb0801365",
   "metadata": {},
   "source": [
    "how do you concatenate two string in python?"
   ]
  },
  {
   "cell_type": "code",
   "execution_count": 1,
   "id": "5c2695d1-7728-431f-a8af-b199b637bf62",
   "metadata": {},
   "outputs": [
    {
     "name": "stdout",
     "output_type": "stream",
     "text": [
      "Piyush Kirola\n"
     ]
    }
   ],
   "source": [
    "a = \"Piyush\"\n",
    "b = \"Kirola\"\n",
    "\n",
    "result = a + \" \" + b\n",
    "print(result)"
   ]
  },
  {
   "cell_type": "markdown",
   "id": "d5cfbffa-e818-40e7-bb3e-051898ac56fe",
   "metadata": {},
   "source": [
    "what is the differnce between the + operator and the join method for contatemating sting?"
   ]
  },
  {
   "cell_type": "code",
   "execution_count": 2,
   "id": "55fda58e-031f-4650-841a-88fcd73794a7",
   "metadata": {},
   "outputs": [],
   "source": [
    "result = \"\"\n",
    "for i in range(10000):\n",
    "    result += \"a\"\n",
    "list_of_strings = [\"a\"] * 10000\n",
    "result = \"\".join(list_of_strings)"
   ]
  },
  {
   "cell_type": "markdown",
   "id": "49134909-5fb7-4490-ac77-a45bafa09e3f",
   "metadata": {},
   "source": [
    "how do you access individual characters in a string?"
   ]
  },
  {
   "cell_type": "markdown",
   "id": "0f0985e4-6842-45c2-b00a-9ce05416f8ab",
   "metadata": {},
   "source": [
    "by using find method we can access any individual character from the string"
   ]
  },
  {
   "cell_type": "code",
   "execution_count": 3,
   "id": "4a055152-d015-4ee5-8a46-b21a1a67c873",
   "metadata": {},
   "outputs": [
    {
     "name": "stdout",
     "output_type": "stream",
     "text": [
      "2\n"
     ]
    }
   ],
   "source": [
    "\"\"\"for example\"\"\"\n",
    "string1 = \"python\"\n",
    "\n",
    "print(string1.find(\"t\"))"
   ]
  },
  {
   "cell_type": "markdown",
   "id": "d3d31b44-bbba-4d85-bb8f-dc9e89be1045",
   "metadata": {},
   "source": [
    "what method is used to uppercase and lowecase in python?"
   ]
  },
  {
   "cell_type": "markdown",
   "id": "70962d59-8c23-44da-bf8b-dddcd8ba420f",
   "metadata": {},
   "source": [
    "name1 = \"piyush\"\n",
    "name2 = \"PIYUSH\"\n",
    "\n",
    "print(name1.upper())\n",
    "print(name1.lower())"
   ]
  },
  {
   "cell_type": "markdown",
   "id": "1df5da26-5201-4a96-be53-ed11ce5ed711",
   "metadata": {},
   "source": [
    "what method is used to replace substrings within a string?"
   ]
  },
  {
   "cell_type": "code",
   "execution_count": 4,
   "id": "cc9c6cf2-4884-43b3-927b-f8b4b71f0468",
   "metadata": {},
   "outputs": [
    {
     "name": "stdout",
     "output_type": "stream",
     "text": [
      "hi my name is python\n"
     ]
    }
   ],
   "source": [
    "str3 = \"hi my name is java\"\n",
    "\n",
    "print(str3.replace(\"java\",\"python\"))"
   ]
  },
  {
   "cell_type": "markdown",
   "id": "017084f6-3a5f-473b-915e-9d1254d12670",
   "metadata": {},
   "source": [
    "how can you split a string into a list of substrings based on delimiter?"
   ]
  },
  {
   "cell_type": "code",
   "execution_count": 5,
   "id": "32b08f89-497d-4e9f-8f71-a9066fbd46fa",
   "metadata": {},
   "outputs": [
    {
     "name": "stdout",
     "output_type": "stream",
     "text": [
      "['apple', 'banana', 'mango']\n"
     ]
    }
   ],
   "source": [
    "list1 = [\"apple,banana,mango\"]\n",
    "sep = ','\n",
    "print(list1[0].split(sep))"
   ]
  },
  {
   "cell_type": "markdown",
   "id": "2e754460-a00a-4c99-a11e-6303db3e9a53",
   "metadata": {},
   "source": [
    "how do you check if a string starts with a particular and end with a particular substring?"
   ]
  },
  {
   "cell_type": "code",
   "execution_count": 6,
   "id": "61ebddb1-e318-48d1-9f36-f3a7d9118568",
   "metadata": {},
   "outputs": [
    {
     "name": "stdout",
     "output_type": "stream",
     "text": [
      "True\n",
      "True\n"
     ]
    }
   ],
   "source": [
    "str5 = \"python\"\n",
    "\n",
    "print(str5.startswith(\"p\"))\n",
    "print(str5.endswith(\"n\"))"
   ]
  },
  {
   "cell_type": "markdown",
   "id": "418817fd-5a11-4f4d-820e-344caeb7a91e",
   "metadata": {},
   "source": [
    "how can you remove leading and trailing whitespaces from a string?"
   ]
  },
  {
   "cell_type": "code",
   "execution_count": 7,
   "id": "f7fb67da-401f-46ca-804b-7fa4a08cdfd0",
   "metadata": {},
   "outputs": [
    {
     "name": "stdout",
     "output_type": "stream",
     "text": [
      "heelo world\n"
     ]
    }
   ],
   "source": [
    "str4 = \" heelo world \"\n",
    "print(str4.strip())"
   ]
  },
  {
   "cell_type": "markdown",
   "id": "fe7d626d-5769-41af-a17a-32bdcf97222d",
   "metadata": {},
   "source": [
    "what method is used to find the index of the first ocuuertence of a substring within a string?"
   ]
  },
  {
   "cell_type": "code",
   "execution_count": 8,
   "id": "aa5c1e52-27de-4098-b9a0-e9e9f2f56c66",
   "metadata": {},
   "outputs": [
    {
     "name": "stdout",
     "output_type": "stream",
     "text": [
      "0\n"
     ]
    }
   ],
   "source": [
    "str6 = \"apple\"\n",
    "print(str6.index(\"a\"))"
   ]
  },
  {
   "cell_type": "markdown",
   "id": "fa9b1683-9053-4e45-bf6d-7592bd53407f",
   "metadata": {},
   "source": [
    "how can you count the number of occurrences of a substring within a substring?"
   ]
  },
  {
   "cell_type": "code",
   "execution_count": 9,
   "id": "942e95eb-ae3e-4211-ad11-debaa7afbe60",
   "metadata": {},
   "outputs": [
    {
     "name": "stdout",
     "output_type": "stream",
     "text": [
      "3\n"
     ]
    }
   ],
   "source": [
    "str7 = \"banana\"\n",
    "print(str7.count(\"a\"))"
   ]
  },
  {
   "cell_type": "markdown",
   "id": "03e66431-34cc-4444-88b6-12feb9eb3e41",
   "metadata": {},
   "source": [
    "how do you check if a string contains only alphabetic and numeric characters?"
   ]
  },
  {
   "cell_type": "code",
   "execution_count": 10,
   "id": "f81fb567-5189-4dd4-a472-cb6987144d07",
   "metadata": {},
   "outputs": [
    {
     "name": "stdout",
     "output_type": "stream",
     "text": [
      "True\n",
      "True\n"
     ]
    }
   ],
   "source": [
    "str8 = \"piyush\"\n",
    "str9 = \"1633\"\n",
    "\n",
    "print(str8.isalpha())\n",
    "print(str9.isalnum())"
   ]
  },
  {
   "cell_type": "markdown",
   "id": "fc323a3b-1624-4ed9-a6ca-28937e2bf115",
   "metadata": {},
   "source": [
    "how can you check if a number is palindrome?"
   ]
  },
  {
   "cell_type": "code",
   "execution_count": 11,
   "id": "62a86680-1a82-4b80-a514-28a9135df163",
   "metadata": {},
   "outputs": [
    {
     "name": "stdout",
     "output_type": "stream",
     "text": [
      "True\n"
     ]
    }
   ],
   "source": [
    "str10 = \"343\"\n",
    "\n",
    "rev1 = str10[::]\n",
    "rev2 = str10[::-1]\n",
    "\n",
    "palindrome = rev1 == rev2\n",
    "print(palindrome)"
   ]
  },
  {
   "cell_type": "markdown",
   "id": "3d1dcf68-88f2-4d49-943f-c728fb55add1",
   "metadata": {},
   "source": [
    "how can you reverse a string in python?"
   ]
  },
  {
   "cell_type": "code",
   "execution_count": 12,
   "id": "50dd96ee-5db1-4e3e-85a1-a3c161f68c93",
   "metadata": {},
   "outputs": [
    {
     "name": "stdout",
     "output_type": "stream",
     "text": [
      "hsuyip\n"
     ]
    }
   ],
   "source": [
    "str11 = \"piyush\"\n",
    "print(str11[::-1])"
   ]
  },
  {
   "cell_type": "markdown",
   "id": "36b9955c-512a-4f19-90ed-614de05dab9f",
   "metadata": {},
   "source": [
    "how do you format a string with placeholder for variable values?"
   ]
  },
  {
   "cell_type": "code",
   "execution_count": 13,
   "id": "5f8f12f4-fd4b-4ced-91e0-9f0ab68b776f",
   "metadata": {},
   "outputs": [
    {
     "name": "stdout",
     "output_type": "stream",
     "text": [
      "My name is Piyush and my age is 20 and I live in Noida\n"
     ]
    }
   ],
   "source": [
    "n = \"Piyush\"\n",
    "a = 20\n",
    "c = \"Noida\"\n",
    "\n",
    "print(f\"My name is {n} and my age is {a} and I live in {c}\")"
   ]
  },
  {
   "cell_type": "markdown",
   "id": "894cc164-2de2-41d1-80c2-a6058cda1fb6",
   "metadata": {},
   "source": [
    "how you can remove specific character from a string in python?"
   ]
  },
  {
   "cell_type": "markdown",
   "id": "0fac8629-e6f4-4b93-9822-6eb1f1071969",
   "metadata": {},
   "source": [
    "how do you access a substring of a string using slicing?"
   ]
  },
  {
   "cell_type": "code",
   "execution_count": 17,
   "id": "8439ae6b-67a8-4a15-b929-a3f7bec3365a",
   "metadata": {},
   "outputs": [
    {
     "name": "stdout",
     "output_type": "stream",
     "text": [
      "World\n"
     ]
    }
   ],
   "source": [
    "my_string = \"Hello, World!\"\n",
    "substring = my_string[7:12]\n",
    "print(substring)"
   ]
  },
  {
   "cell_type": "code",
   "execution_count": 18,
   "id": "b0a14237-49ec-4bf3-880d-ec2343eae775",
   "metadata": {},
   "outputs": [
    {
     "name": "stdout",
     "output_type": "stream",
     "text": [
      "iis ss t\n"
     ]
    }
   ],
   "source": [
    "name2 = \"poopiis ossppo ort\"\n",
    "remove = \"por\"\n",
    "table = str.maketrans(\"\", \"\", remove)\n",
    "\n",
    "new_string = name2.translate(table)\n",
    "\n",
    "print(new_string)"
   ]
  }
 ],
 "metadata": {
  "kernelspec": {
   "display_name": "Python 3 (ipykernel)",
   "language": "python",
   "name": "python3"
  },
  "language_info": {
   "codemirror_mode": {
    "name": "ipython",
    "version": 3
   },
   "file_extension": ".py",
   "mimetype": "text/x-python",
   "name": "python",
   "nbconvert_exporter": "python",
   "pygments_lexer": "ipython3",
   "version": "3.13.5"
  }
 },
 "nbformat": 4,
 "nbformat_minor": 5
}
